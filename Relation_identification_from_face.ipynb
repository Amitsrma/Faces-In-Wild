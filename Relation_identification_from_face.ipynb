{
  "nbformat": 4,
  "nbformat_minor": 0,
  "metadata": {
    "colab": {
      "name": "Relation_identification_from_face.ipynb",
      "version": "0.3.2",
      "provenance": [],
      "collapsed_sections": [],
      "include_colab_link": true
    },
    "kernelspec": {
      "name": "python3",
      "display_name": "Python 3"
    }
  },
  "cells": [
    {
      "cell_type": "markdown",
      "metadata": {
        "id": "view-in-github",
        "colab_type": "text"
      },
      "source": [
        "<a href=\"https://colab.research.google.com/github/Amitsrma/Faces-In-Wild/blob/master/Relation_identification_from_face.ipynb\" target=\"_parent\"><img src=\"https://colab.research.google.com/assets/colab-badge.svg\" alt=\"Open In Colab\"/></a>"
      ]
    },
    {
      "cell_type": "code",
      "metadata": {
        "id": "Xo9ApX3ZujEg",
        "colab_type": "code",
        "outputId": "1042be97-5931-4431-f3ea-f2821aeddb60",
        "colab": {
          "base_uri": "https://localhost:8080/",
          "height": 33
        }
      },
      "source": [
        "'''\n",
        "This code is a part of solution attempt from me to check if we can know if two\n",
        "people are related based on their images\n",
        "Training and testing data is provided by kaggle.\n",
        "Following is the link to competition: https://www.kaggle.com/c/recognizing-faces-in-the-wild/overview\n",
        "'''\n",
        "from google.colab import drive\n",
        "drive.mount('/colab/')"
      ],
      "execution_count": 20,
      "outputs": [
        {
          "output_type": "stream",
          "text": [
            "Drive already mounted at /colab/; to attempt to forcibly remount, call drive.mount(\"/colab/\", force_remount=True).\n"
          ],
          "name": "stdout"
        }
      ]
    },
    {
      "cell_type": "code",
      "metadata": {
        "id": "395VvayBuv9O",
        "colab_type": "code",
        "outputId": "130c3952-ba08-46da-8ea9-88237e9e8419",
        "colab": {
          "base_uri": "https://localhost:8080/",
          "height": 68
        }
      },
      "source": [
        "!ls sample_data"
      ],
      "execution_count": 0,
      "outputs": [
        {
          "output_type": "stream",
          "text": [
            "anscombe.json\t\t      mnist_test.csv\n",
            "california_housing_test.csv   mnist_train_small.csv\n",
            "california_housing_train.csv  README.md\n"
          ],
          "name": "stdout"
        }
      ]
    },
    {
      "cell_type": "code",
      "metadata": {
        "id": "5OC2g-qku716",
        "colab_type": "code",
        "outputId": "4b704e71-68bd-4910-8a78-1135b38a9a4a",
        "colab": {
          "base_uri": "https://localhost:8080/",
          "height": 34
        }
      },
      "source": [
        "!ls '/colab/My Drive/Colab_folder'"
      ],
      "execution_count": 0,
      "outputs": [
        {
          "output_type": "stream",
          "text": [
            "dogs-cats  FIW\n"
          ],
          "name": "stdout"
        }
      ]
    },
    {
      "cell_type": "code",
      "metadata": {
        "id": "K5S72gOD1T1d",
        "colab_type": "code",
        "outputId": "957e371d-41b6-4eed-e70a-e15c5b523c92",
        "colab": {
          "base_uri": "https://localhost:8080/",
          "height": 67
        }
      },
      "source": [
        "!ls '/colab/My Drive/Colab_folder/FIW'"
      ],
      "execution_count": 0,
      "outputs": [
        {
          "output_type": "stream",
          "text": [
            "Relation_identification_from_face.ipynb  test.zip\t\t  train.zip\n",
            "sample_submission.csv\t\t\t train\n",
            "test\t\t\t\t\t train_relationships.csv\n"
          ],
          "name": "stdout"
        }
      ]
    },
    {
      "cell_type": "code",
      "metadata": {
        "id": "7PApAkAEu_HX",
        "colab_type": "code",
        "colab": {}
      },
      "source": [
        "##Run this part only once\n",
        "#import zipfile\n",
        "##this does not work for nested folders .i.e. if there is folder in folder in \n",
        "##folder in the zip file\n",
        "#zip_ref = zipfile.ZipFile(\"/colab/My Drive/Colab_folder/FIW/train.zip\", 'r')\n",
        "#zip_ref.extractall(\"/colab/My Drive/Colab_folder/FIW/train/\")\n",
        "#zip_ref.close()\n",
        "\n",
        "#zip_ref = zipfile.ZipFile(\"/colab/My Drive/Colab_folder/FIW/test.zip\", 'r')\n",
        "#zip_ref.extractall(\"/colab/My Drive/Colab_folder/FIW/test/\")\n",
        "#zip_ref.close()"
      ],
      "execution_count": 0,
      "outputs": []
    },
    {
      "cell_type": "code",
      "metadata": {
        "id": "HycGZ6arxjz5",
        "colab_type": "code",
        "colab": {}
      },
      "source": [
        "##run this part only once\n",
        "##this worked for nested folder\n",
        "#!unzip '/colab/My Drive/Colab_folder/FIW/train.zip' -d '/colab/My Drive/Colab_folder/FIW/train/'"
      ],
      "execution_count": 0,
      "outputs": []
    },
    {
      "cell_type": "code",
      "metadata": {
        "id": "c6q9DwSPHW1w",
        "colab_type": "code",
        "outputId": "b0fbcb8e-f185-4b9a-b5da-1a8208dcc9e1",
        "colab": {
          "base_uri": "https://localhost:8080/",
          "height": 150
        }
      },
      "source": [
        "import pandas as pd\n",
        "train_reln=pd.read_csv('/colab/My Drive/Colab_folder/FIW/train_relationships.csv')\n",
        "print(train_reln.head())\n",
        "print(train_reln.iloc[0,0])\n",
        "print(type(train_reln.iloc[0,0]))"
      ],
      "execution_count": 10,
      "outputs": [
        {
          "output_type": "stream",
          "text": [
            "           p1          p2\n",
            "0  F0002/MID1  F0002/MID3\n",
            "1  F0002/MID2  F0002/MID3\n",
            "2  F0005/MID1  F0005/MID2\n",
            "3  F0005/MID3  F0005/MID2\n",
            "4  F0009/MID1  F0009/MID4\n",
            "F0002/MID1\n",
            "<class 'str'>\n"
          ],
          "name": "stdout"
        }
      ]
    },
    {
      "cell_type": "code",
      "metadata": {
        "id": "A8UPUBGoh-Ol",
        "colab_type": "code",
        "outputId": "8b3a3b5c-0ba6-45d1-f004-12bce1c2bdc5",
        "colab": {
          "base_uri": "https://localhost:8080/",
          "height": 34
        }
      },
      "source": [
        "len(train_reln)"
      ],
      "execution_count": 0,
      "outputs": [
        {
          "output_type": "execute_result",
          "data": {
            "text/plain": [
              "3598"
            ]
          },
          "metadata": {
            "tags": []
          },
          "execution_count": 3
        }
      ]
    },
    {
      "cell_type": "code",
      "metadata": {
        "id": "0SQc7mRqCfTP",
        "colab_type": "code",
        "colab": {}
      },
      "source": [
        "import os\n",
        "\n",
        "def max_size_folder(train_reln):\n",
        "  size1, size2, prev1, prev2=0,0,0,0\n",
        "  total_matrix_size=0\n",
        "  notExistingFolder={}\n",
        "  for i in train_reln.index:\n",
        "    #checks if the folder checking relationship exists in the train folder\n",
        "    try:\n",
        "      size1=len(os.listdir('/colab/My Drive/Colab_folder/FIW/train/'+train_reln.loc[i,'p1']))\n",
        "      if size1>prev1:\n",
        "        prev1=size1\n",
        "    except FileNotFoundError:\n",
        "      #if folder doesnot exist, it is added in a list that keeps track of all the folders that do not exist\n",
        "      if i not in notExistingFolder.keys():\n",
        "        notExistingFolder[i]=[train_reln.loc[i,'p1'],]\n",
        "      else:\n",
        "        notExistingFolder[i].append(train_reln.loc[i,'p1'])\n",
        "    try:\n",
        "      size2=len(os.listdir('/colab/My Drive/Colab_folder/FIW/train/'+train_reln.loc[i,'p2']))\n",
        "      total_matrix_size+=size1*size2\n",
        "      if size2>prev2:\n",
        "        prev2=size2\n",
        "    except FileNotFoundError:\n",
        "      if i not in notExistingFolder.keys():\n",
        "        notExistingFolder[i]=[train_reln.loc[i,'p2'],]\n",
        "      else:\n",
        "        notExistingFolder[i].append(train_reln.loc[i,'p2'])\n",
        "  print(prev1, prev2)\n",
        "  return notExistingFolder,total_matrix_size"
      ],
      "execution_count": 0,
      "outputs": []
    },
    {
      "cell_type": "code",
      "metadata": {
        "id": "0BeE5iRyEwvo",
        "colab_type": "code",
        "outputId": "e3da9adb-86d7-4e52-f658-40d75953b27e",
        "colab": {
          "base_uri": "https://localhost:8080/",
          "height": 33
        }
      },
      "source": [
        "a=max_size_folder(train_reln)\n",
        "notExistingFolder,total_matrix_size=a[0],a[1]"
      ],
      "execution_count": 12,
      "outputs": [
        {
          "output_type": "stream",
          "text": [
            "95 95\n"
          ],
          "name": "stdout"
        }
      ]
    },
    {
      "cell_type": "code",
      "metadata": {
        "id": "aWIF-sQ5wPp7",
        "colab_type": "code",
        "outputId": "4a984732-a756-4961-f5b3-1fde17f5eb0a",
        "colab": {
          "base_uri": "https://localhost:8080/",
          "height": 53
        }
      },
      "source": [
        "notExistingFolder.keys()"
      ],
      "execution_count": 13,
      "outputs": [
        {
          "output_type": "execute_result",
          "data": {
            "text/plain": [
              "dict_keys([128, 131, 132, 133, 145, 146, 147, 160, 161, 162, 199, 201, 204, 205, 206, 207, 223, 224, 225, 233, 237, 239, 240, 420, 421, 422, 423, 427, 428, 429, 430, 431, 432, 434, 442, 444, 471, 472, 473, 474, 475, 525, 532, 704, 709, 722, 732, 734, 743, 750, 751, 752, 753, 754, 755, 756, 757, 758, 759, 794, 795, 816, 817, 827, 829, 831, 839, 844, 845, 846, 847, 848, 881, 882, 883, 886, 887, 889, 890, 891, 892, 896, 897, 918, 919, 922, 933, 941, 943, 946, 947, 951, 962, 970, 1073, 1077, 1078, 1080, 1108, 1115, 1116, 1118, 1122, 1123, 1125, 1262, 1264, 1266, 1268, 1270, 1382, 1384, 1387, 1390, 1392, 1448, 1458, 1490, 1516, 1518, 1519, 1554, 1555, 1556, 1557, 1558, 1566, 1571, 1577, 1581, 1586, 1601, 1605, 1606, 1608, 1609, 1613, 1614, 1688, 1689, 1705, 1706, 1722, 1723, 1724, 1725, 1726, 1728, 1798, 1799, 1876, 1878, 1880, 1937, 1939, 2006, 2007, 2070, 2108, 2161, 2164, 2168, 2265, 2269, 2271, 2272, 2273, 2274, 2276, 2277, 2315, 2317, 2360, 2361, 2384, 2430, 2431, 2483, 2499, 2500, 2515, 2520, 2609, 2610, 2611, 2626, 2627, 2670, 2733, 2739, 2836, 2845, 2847, 2852, 2870, 2873, 2875, 2912, 2915, 2917, 2919, 2920, 2921, 2967, 2973, 2980, 2981, 2982, 2983, 3015, 3017, 3018, 3019, 3020, 3021, 3029, 3033, 3034, 3039, 3100, 3172, 3261, 3262, 3269, 3271, 3287, 3290, 3292, 3295, 3431, 3457])"
            ]
          },
          "metadata": {
            "tags": []
          },
          "execution_count": 13
        }
      ]
    },
    {
      "cell_type": "code",
      "metadata": {
        "id": "3yGKeJLGcm6Z",
        "colab_type": "code",
        "colab": {}
      },
      "source": [
        "'''\n",
        "This part is used to remove the parts of dataframe which points to folder that\n",
        "do not exist.\n",
        "'''\n",
        "for key in notExistingFolder.keys():\n",
        "  train_reln=train_reln.drop(key)"
      ],
      "execution_count": 0,
      "outputs": []
    },
    {
      "cell_type": "code",
      "metadata": {
        "id": "umEoSZPPE4Px",
        "colab_type": "code",
        "outputId": "51022238-32de-41d3-dff9-c50fbd5d6e17",
        "colab": {
          "base_uri": "https://localhost:8080/",
          "height": 33
        }
      },
      "source": [
        "total_matrix_size"
      ],
      "execution_count": 15,
      "outputs": [
        {
          "output_type": "execute_result",
          "data": {
            "text/plain": [
              "167785"
            ]
          },
          "metadata": {
            "tags": []
          },
          "execution_count": 15
        }
      ]
    },
    {
      "cell_type": "code",
      "metadata": {
        "id": "EWNQj8tMFdpC",
        "colab_type": "code",
        "outputId": "8aa36e8e-d032-4832-bd05-29918a1040be",
        "colab": {
          "base_uri": "https://localhost:8080/",
          "height": 34
        }
      },
      "source": [
        "len(train_reln)"
      ],
      "execution_count": 0,
      "outputs": [
        {
          "output_type": "execute_result",
          "data": {
            "text/plain": [
              "3367"
            ]
          },
          "metadata": {
            "tags": []
          },
          "execution_count": 9
        }
      ]
    },
    {
      "cell_type": "code",
      "metadata": {
        "id": "ZRADee-HKdSx",
        "colab_type": "code",
        "outputId": "0506c35f-217b-49d8-801b-0e0580dacb46",
        "colab": {
          "base_uri": "https://localhost:8080/",
          "height": 33
        }
      },
      "source": [
        "'''\n",
        "Creating a dataframe with a columns having information about images that are related\n",
        "related_dataframe: dataframe that stores information about image\n",
        "Column: Image-1: stores numpy array of number representing an image\n",
        "Column: Image-2: stores numpy array of number representing an image related to Image-1\n",
        "'''\n",
        "import matplotlib.pyplot as plt\n",
        "import numpy as np\n",
        "import keras"
      ],
      "execution_count": 16,
      "outputs": [
        {
          "output_type": "stream",
          "text": [
            "Using TensorFlow backend.\n"
          ],
          "name": "stderr"
        }
      ]
    },
    {
      "cell_type": "code",
      "metadata": {
        "id": "IIntEcZKO0YQ",
        "colab_type": "code",
        "colab": {}
      },
      "source": [
        "a=plt.imread('/colab/My Drive/Colab_folder/FIW/train/F0009/MID1/P10576_face2.jpg')"
      ],
      "execution_count": 0,
      "outputs": []
    },
    {
      "cell_type": "code",
      "metadata": {
        "id": "QdDlDC9aLO0T",
        "colab_type": "code",
        "colab": {}
      },
      "source": [
        "black=np.array(a/255.0)\n",
        "for i in range(len(black)):\n",
        "  for j in range(len(black[i])):\n",
        "    black[i][j]*= np.array([0.299, 0.587, 0.144])\n",
        "plt.imshow(black)"
      ],
      "execution_count": 0,
      "outputs": []
    },
    {
      "cell_type": "code",
      "metadata": {
        "id": "e6q_FJBQkW8x",
        "colab_type": "code",
        "colab": {}
      },
      "source": [
        "'''\n",
        "creating database of related images\n",
        "'''\n",
        "#the dataframe acting as database\n",
        "import pandas as pd\n",
        "import os\n",
        "import matplotlib.pyplot as plt\n",
        "\n",
        "related_dataframe=pd.DataFrame(columns=['Image-1','Image-2','relation'])\n",
        "\n",
        "'''\n",
        "1. get into each folder that contains image of related people.\n",
        "2. create all possible permutation of related images.\n",
        "3. image-1 will be image from column p1.\n",
        "4. image-2 will be image from column p2.\n",
        "5. relation will have value 1 when there is relation between the photos.\n",
        "\n",
        "#train_reln.head()\n",
        "\n",
        "p1\tp2\n",
        "0\tF0002/MID1\tF0002/MID3\n",
        "1\tF0002/MID2\tF0002/MID3\n",
        "2\tF0005/MID1\tF0005/MID2\n",
        "3\tF0005/MID3\tF0005/MID2\n",
        "4\tF0009/MID1\tF0009/MID4\n",
        "'''\n",
        "'''\n",
        "Commented until better method is thought of!\n",
        "for indx in train_reln.index:\n",
        "  #getting location of first folder with related image\n",
        "  locn_p1='/colab/My Drive/Colab_folder/FIW/train/'+train_reln.loc[indx,'p1']\n",
        "  #getting location of second folder with related image\n",
        "  locn_p2='/colab/My Drive/Colab_folder/FIW/train/'+train_reln.loc[indx,'p2']\n",
        "\n",
        "  #getting list of files in first folder\n",
        "  files_in_p1=os.listdir(locn_p1)\n",
        "  #getting list of files in second folder\n",
        "  files_in_p2=os.listdir(locn_p2)\n",
        "  for image_file_name_p1 in files_in_p1:\n",
        "    #reading image file in location of p1 and converting it to grey scale\n",
        "    img1=plt.imread(locn_p1+image_file_name_p1)/255.0 * np.array([0.299, 0.587, 0.144])\n",
        "    for image_file_name_p2 in files_in_p2:\n",
        "      #reading image file in location of p1\n",
        "      img2=plt.imread(locn_p1+image_file_name_p2)/255.0 * np.array([0.299, 0.587, 0.144])\n",
        "      related_dataframe.loc[indx,'Image-1']=img1\n",
        "      related_dataframe.loc[indx,'Image-2']=img2\n",
        "'''"
      ],
      "execution_count": 0,
      "outputs": []
    },
    {
      "cell_type": "code",
      "metadata": {
        "id": "sLEXbvmP3ujz",
        "colab_type": "code",
        "colab": {}
      },
      "source": [
        "import pandas as pd\n",
        "import os\n",
        "import matplotlib.pyplot as plt\n",
        "import numpy as np\n",
        "\n",
        "\n",
        "def dist_between_images(img1, img2):\n",
        "  '''\n",
        "  this function takes in two images as input and returns euclidean distance \n",
        "  between them\n",
        "  img1: one of related images\n",
        "  img2: next related image\n",
        "  return: euclidean distance between two image\n",
        "  '''\n",
        "  return (np.sum((img1-img2)**2))**0.5\n",
        "\n",
        "\n",
        "\n",
        "def all_distances(df):\n",
        "  '''\n",
        "  since there are images in folder and each image is compared with the related\n",
        "  ones in another folder, \n",
        "  \n",
        "  a cartesian product: ImagesInFolder_1 x ImagesInFolder_2\n",
        "  \n",
        "  this function takes in the dataframe containing location of related images\n",
        "  df: dataframe with location of related images\n",
        "  return: dataframe df, with new column that has a list of distance between \n",
        "  all the images\n",
        "  '''\n",
        "  reln=df.copy()\n",
        "  all_dist={}\n",
        "  for indx in df.index:\n",
        "    #getting location of first folder with related image\n",
        "    locn_p1='/colab/My Drive/Colab_folder/FIW/train/'+df.loc[indx,'p1']\n",
        "    #getting location of second folder with related image\n",
        "    locn_p2='/colab/My Drive/Colab_folder/FIW/train/'+df.loc[indx,'p2']\n",
        "\n",
        "    #getting list of files in first folder\n",
        "    files_in_p1=os.listdir(locn_p1)\n",
        "    \n",
        "    #getting list of files in second folder\n",
        "    files_in_p2=os.listdir(locn_p2)\n",
        "    second_level_distance=[]\n",
        "    \n",
        "    #this part creates a dataframe with cartesian product of images\n",
        "    for image_file_name_p1 in files_in_p1:\n",
        "      first_level_distance=[]\n",
        "      \n",
        "      #reading image file in location of p1 and converting it to grey scale\n",
        "      img1=plt.imread(locn_p1+'/'+image_file_name_p1)/255.0 * np.array([0.299, 0.587, 0.144])\n",
        "      \n",
        "      for image_file_name_p2 in files_in_p2:\n",
        "        #reading image file in location of p1\n",
        "        img2=plt.imread(locn_p2+'/'+image_file_name_p2)/255.0 * np.array([0.299, 0.587, 0.144])\n",
        "        \n",
        "        first_level_distance.append(dist_between_images(img1,img2))\n",
        "      second_level_distance.append(first_level_distance)\n",
        "    all_dist[indx]=second_level_distance\n",
        "  return all_dist"
      ],
      "execution_count": 0,
      "outputs": []
    },
    {
      "cell_type": "code",
      "metadata": {
        "id": "-QTSTOSRe2Sk",
        "colab_type": "code",
        "colab": {}
      },
      "source": [
        "#this part was faster on PC than on colab\n",
        "train_dist=all_distances(train_reln)"
      ],
      "execution_count": 0,
      "outputs": []
    },
    {
      "cell_type": "code",
      "metadata": {
        "id": "zGkOGKVrnrTI",
        "colab_type": "code",
        "colab": {}
      },
      "source": [
        "def prewhiten(x):\n",
        "    if x.ndim == 4:\n",
        "        axis = (1, 2, 3)\n",
        "        size = x[0].size\n",
        "    elif x.ndim == 3:\n",
        "        axis = (0, 1, 2)\n",
        "        size = x.size\n",
        "    else:\n",
        "        raise ValueError('Dimension should be 3 or 4')\n",
        "\n",
        "    mean = np.mean(x, axis=axis, keepdims=True)\n",
        "    std = np.std(x, axis=axis, keepdims=True)\n",
        "    std_adj = np.maximum(std, 1.0/np.sqrt(size))\n",
        "    y = (x - mean) / std_adj\n",
        "    return y\n",
        "img7=prewhiten(img3)\n",
        "plt.figure('not whitened')\n",
        "plt.imshow(img3)\n",
        "plt.figure('whitened')\n",
        "plt.imshow(img7)"
      ],
      "execution_count": 0,
      "outputs": []
    },
    {
      "cell_type": "code",
      "metadata": {
        "id": "6oyYncfkptYz",
        "colab_type": "code",
        "colab": {}
      },
      "source": [
        "'''\n",
        "it took a lot of time to get the distance between image\n",
        "Reason seems to be that accessing google drive and reading each file then doing\n",
        "computation takes a lot of time. So I saved the result as a pkl file. Won't have\n",
        "to run this when I start next.\n",
        "'''\n",
        "import pickle\n",
        "f = open(\"/colab/My Drive/Colab_folder/FIW/distance.pkl\",\"wb\")\n",
        "pickle.dump(train_dist,f)\n",
        "f.close()"
      ],
      "execution_count": 0,
      "outputs": []
    },
    {
      "cell_type": "code",
      "metadata": {
        "id": "MvinQQoXpyNY",
        "colab_type": "code",
        "colab": {
          "base_uri": "https://localhost:8080/",
          "height": 67
        },
        "outputId": "4206b6ff-d1ac-42ca-f20b-e8100d2ac62e"
      },
      "source": [
        "ls '/colab/My Drive/Colab_folder/FIW/'"
      ],
      "execution_count": 25,
      "outputs": [
        {
          "output_type": "stream",
          "text": [
            "'distance (1).pkl'                         \u001b[0m\u001b[01;34mtest\u001b[0m/      train_relationships.csv\n",
            " Relation_identification_from_face.ipynb   test.zip   train.zip\n",
            " sample_submission.csv                     \u001b[01;34mtrain\u001b[0m/\n"
          ],
          "name": "stdout"
        }
      ]
    },
    {
      "cell_type": "code",
      "metadata": {
        "id": "9Gld51fRUdBu",
        "colab_type": "code",
        "colab": {}
      },
      "source": [
        "'''\n",
        "get information from pickle file\n",
        "'''\n",
        "import pickle\n",
        "f = open(\"/colab/My Drive/Colab_folder/FIW/distance.pkl\",\"rb\")\n",
        "data=pickle.load(f)\n",
        "f.close()"
      ],
      "execution_count": 0,
      "outputs": []
    },
    {
      "cell_type": "code",
      "metadata": {
        "id": "T7AgB4Vd8DXI",
        "colab_type": "code",
        "outputId": "01ee2a38-9a5a-4d42-d6f9-edd53d51e1af",
        "colab": {
          "base_uri": "https://localhost:8080/",
          "height": 33
        }
      },
      "source": [
        "len(data), len(train_dist)"
      ],
      "execution_count": 29,
      "outputs": [
        {
          "output_type": "execute_result",
          "data": {
            "text/plain": [
              "(3367, 3367)"
            ]
          },
          "metadata": {
            "tags": []
          },
          "execution_count": 29
        }
      ]
    },
    {
      "cell_type": "code",
      "metadata": {
        "id": "Gpu52hG4FAgY",
        "colab_type": "code",
        "colab": {}
      },
      "source": [
        "del data"
      ],
      "execution_count": 0,
      "outputs": []
    },
    {
      "cell_type": "code",
      "metadata": {
        "id": "_dgouSn-GrEC",
        "colab_type": "code",
        "colab": {
          "base_uri": "https://localhost:8080/",
          "height": 84
        },
        "outputId": "8328ddb5-3e82-4d13-8ac7-eeb2507b6c16"
      },
      "source": [
        "list_of_MeanDistance=[np.mean(train_dist[i]) for i in train_dist.keys()]"
      ],
      "execution_count": 37,
      "outputs": [
        {
          "output_type": "stream",
          "text": [
            "/usr/local/lib/python3.6/dist-packages/numpy/core/fromnumeric.py:3118: RuntimeWarning: Mean of empty slice.\n",
            "  out=out, **kwargs)\n",
            "/usr/local/lib/python3.6/dist-packages/numpy/core/_methods.py:85: RuntimeWarning: invalid value encountered in double_scalars\n",
            "  ret = ret.dtype.type(ret / rcount)\n"
          ],
          "name": "stderr"
        }
      ]
    },
    {
      "cell_type": "code",
      "metadata": {
        "id": "UEs_g15SHC42",
        "colab_type": "code",
        "colab": {
          "base_uri": "https://localhost:8080/",
          "height": 33
        },
        "outputId": "fda23423-4581-4333-f147-f559881aefa3"
      },
      "source": [
        "len(list_of_MeanDistance)"
      ],
      "execution_count": 38,
      "outputs": [
        {
          "output_type": "execute_result",
          "data": {
            "text/plain": [
              "3367"
            ]
          },
          "metadata": {
            "tags": []
          },
          "execution_count": 38
        }
      ]
    },
    {
      "cell_type": "code",
      "metadata": {
        "id": "O5hdkj01HJR2",
        "colab_type": "code",
        "colab": {
          "base_uri": "https://localhost:8080/",
          "height": 286
        },
        "outputId": "9d062ab6-ceb4-47c7-e237-095e099bbd89"
      },
      "source": [
        "plt.scatter(range(3367),list_of_MeanDistance)"
      ],
      "execution_count": 40,
      "outputs": [
        {
          "output_type": "execute_result",
          "data": {
            "text/plain": [
              "<matplotlib.collections.PathCollection at 0x7fe99e79fa58>"
            ]
          },
          "metadata": {
            "tags": []
          },
          "execution_count": 40
        },
        {
          "output_type": "display_data",
          "data": {
            "image/png": "[encoded data removed]",
            "text/plain": [
              "<Figure size 432x288 with 1 Axes>"
            ]
          },
          "metadata": {
            "tags": []
          }
        }
      ]
    },
    {
      "cell_type": "code",
      "metadata": {
        "id": "HCMcqVTSaf_F",
        "colab_type": "code",
        "outputId": "b1e9bfe5-0fe9-40f5-86bd-700cc0efad43",
        "colab": {
          "base_uri": "https://localhost:8080/",
          "height": 36
        }
      },
      "source": [
        "from tensorflow.keras.preprocessing.image import ImageDataGenerator\n",
        "\n",
        "train_datagen = ImageDataGenerator(rescale=1/255.,\n",
        "                                    shear_range=0.2,\n",
        "                                    zoom_range=0.2,\n",
        "                                    horizontal_flip=True\n",
        "                                    )\n",
        "\n",
        "train_generator = train_datagen.flow_from_directory(\n",
        "        '/colab/My Drive/Colab_folder/FIW/train/',\n",
        "        target_size=(224, 224),\n",
        "        batch_size=32,\n",
        "        class_mode='categorical')"
      ],
      "execution_count": 0,
      "outputs": [
        {
          "output_type": "stream",
          "text": [
            "Found 12379 images belonging to 470 classes.\n"
          ],
          "name": "stdout"
        }
      ]
    },
    {
      "cell_type": "code",
      "metadata": {
        "id": "tx1DOMf6dmsm",
        "colab_type": "code",
        "outputId": "0dd340fd-2ffe-414a-80b1-ff5bec591afb",
        "colab": {
          "base_uri": "https://localhost:8080/",
          "height": 34
        }
      },
      "source": [
        "locn_p1+'/'+os.listdir(locn_p1)[0]"
      ],
      "execution_count": 0,
      "outputs": [
        {
          "output_type": "execute_result",
          "data": {
            "text/plain": [
              "'/colab/My Drive/Colab_folder/FIW/train/F0002/MID1/P00012_face2.jpg'"
            ]
          },
          "metadata": {
            "tags": []
          },
          "execution_count": 36
        }
      ]
    },
    {
      "cell_type": "code",
      "metadata": {
        "id": "GaB_e3oKlZv_",
        "colab_type": "code",
        "colab": {}
      },
      "source": [
        "def dist_between_images(list_of_images):\n",
        "  dist=[]\n",
        "  for i in range(1,len(list_of_images)):\n",
        "    dist.append(np.sqrt(np.sum((list_of_images[0]-list_of_images[i])**2)))\n",
        "  return dist"
      ],
      "execution_count": 0,
      "outputs": []
    },
    {
      "cell_type": "code",
      "metadata": {
        "id": "lO9WO3hDTBVQ",
        "colab_type": "code",
        "colab": {}
      },
      "source": [
        "'''\n",
        "Using information and code from the following link:\n",
        "https://github.com/akarshzingade/image-similarity-deep-ranking\n",
        "'''\n",
        "\n",
        "import numpy as np\n",
        "from keras.layers import *\n",
        "from keras.models import Model\n",
        "from keras.preprocessing.image import load_img, img_to_array\n",
        "from skimage import transform\n",
        "from keras.models import Sequential\n",
        "from keras.layers import Dense, Dropout, Flatten\n",
        "from keras.layers import Conv2D, MaxPooling2D\n",
        "from keras.layers import Embedding\n",
        "\n",
        "def deep_rank_model():\n",
        "  convnet_model = convnet_model_()\n",
        "  first_input = Input(shape=(224,224,3))\n",
        "  first_conv = Conv2D(96, kernel_size=(8, 8),strides=(16,16), padding='same')(first_input)\n",
        "  first_max = MaxPool2D(pool_size=(3,3),strides = (4,4),padding='same')(first_conv)\n",
        "  first_max = Flatten()(first_max)\n",
        "  first_max = Lambda(lambda  x: K.l2_normalize(x,axis=1))(first_max)\n",
        "\n",
        "  second_input = Input(shape=(224,224,3))\n",
        "  second_conv = Conv2D(96, kernel_size=(8, 8),strides=(32,32), padding='same')(second_input)\n",
        "  second_max = MaxPool2D(pool_size=(7,7),strides = (2,2),padding='same')(second_conv)\n",
        "  second_max = Flatten()(second_max)\n",
        "  second_max = Lambda(lambda  x: K.l2_normalize(x,axis=1))(second_max)\n",
        "\n",
        "  merge_one = concatenate([first_max, second_max])\n",
        "\n",
        "  merge_two = concatenate([merge_one, convnet_model.output])\n",
        "  emb = Dense(4096)(merge_two)\n",
        "  l2_norm_final = Lambda(lambda  x: K.l2_normalize(x,axis=1))(emb)\n",
        "\n",
        "  final_model = Model(inputs=[first_input, second_input, convnet_model.input], outputs=l2_norm_final)\n",
        "\n",
        "  return final_model\n",
        "\n",
        "model = deep_rank_model()\n",
        "\n",
        "# for layer in model.layers:\n",
        "#     print (layer.name, layer.output_shape)\n",
        "\n",
        "model.load_weights(args['model'])\n",
        "\n",
        "embedding1 = model.predict([img1, img1, img1])[0]\n",
        "\n",
        "embedding2 = model.predict([img2,img2,img2])[0]\n",
        "\n",
        "distance = sum([(embedding1[idx] - embedding2[idx])**2 for idx in range(len(embedding1))])**(0.5)\n",
        "\n",
        "print (distance)"
      ],
      "execution_count": 0,
      "outputs": []
    },
    {
      "cell_type": "code",
      "metadata": {
        "id": "iXOaxsH5tK6o",
        "colab_type": "code",
        "colab": {}
      },
      "source": [
        ""
      ],
      "execution_count": 0,
      "outputs": []
    },
    {
      "cell_type": "code",
      "metadata": {
        "id": "cQ79hnLCt2Zc",
        "colab_type": "code",
        "colab": {}
      },
      "source": [
        ""
      ],
      "execution_count": 0,
      "outputs": []
    }
  ]
}