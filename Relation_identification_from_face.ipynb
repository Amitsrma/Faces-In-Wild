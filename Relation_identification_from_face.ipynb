{
  "nbformat": 4,
  "nbformat_minor": 0,
  "metadata": {
    "colab": {
      "name": "Relation_identification_from_face.ipynb",
      "version": "0.3.2",
      "provenance": [],
      "collapsed_sections": [],
      "include_colab_link": true
    },
    "kernelspec": {
      "name": "python3",
      "display_name": "Python 3"
    }
  },
  "cells": [
    {
      "cell_type": "markdown",
      "metadata": {
        "id": "view-in-github",
        "colab_type": "text"
      },
      "source": [
        "<a href=\"https://colab.research.google.com/github/Amitsrma/Faces-In-Wild/blob/master/Relation_identification_from_face.ipynb\" target=\"_parent\"><img src=\"https://colab.research.google.com/assets/colab-badge.svg\" alt=\"Open In Colab\"/></a>"
      ]
    },
    {
      "cell_type": "code",
      "metadata": {
        "id": "Xo9ApX3ZujEg",
        "colab_type": "code",
        "outputId": "4171aa14-7296-45ad-b8bc-d49f0f285a3e",
        "colab": {
          "base_uri": "https://localhost:8080/",
          "height": 130
        }
      },
      "source": [
        "'''\n",
        "This code is a part of solution attempt from me to check if we can know if two\n",
        "people are related based on their images\n",
        "Training and testing data is provided by kaggle.\n",
        "Following is the link to competition: https://www.kaggle.com/c/recognizing-faces-in-the-wild/overview\n",
        "'''\n",
        "from google.colab import drive\n",
        "drive.mount('/colab/')"
      ],
      "execution_count": 0,
      "outputs": [
        {
          "output_type": "stream",
          "text": [
            "Go to this URL in a browser: https://accounts.google.com/o/oauth2/auth?client_id=947318989803-6bn6qk8qdgf4n4g3pfee6491hc0brc4i.apps.googleusercontent.com&redirect_uri=urn%3Aietf%3Awg%3Aoauth%3A2.0%3Aoob&scope=email%20https%3A%2F%2Fwww.googleapis.com%2Fauth%2Fdocs.test%20https%3A%2F%2Fwww.googleapis.com%2Fauth%2Fdrive%20https%3A%2F%2Fwww.googleapis.com%2Fauth%2Fdrive.photos.readonly%20https%3A%2F%2Fwww.googleapis.com%2Fauth%2Fpeopleapi.readonly&response_type=code\n",
            "\n",
            "Enter your authorization code:\n",
            "··········\n",
            "Mounted at /colab/\n"
          ],
          "name": "stdout"
        }
      ]
    },
    {
      "cell_type": "code",
      "metadata": {
        "id": "395VvayBuv9O",
        "colab_type": "code",
        "outputId": "7a0cdf2b-c640-40bc-865a-549516645f84",
        "colab": {
          "base_uri": "https://localhost:8080/",
          "height": 73
        }
      },
      "source": [
        "!ls sample_data"
      ],
      "execution_count": 0,
      "outputs": [
        {
          "output_type": "stream",
          "text": [
            "anscombe.json\t\t      mnist_test.csv\n",
            "california_housing_test.csv   mnist_train_small.csv\n",
            "california_housing_train.csv  README.md\n"
          ],
          "name": "stdout"
        }
      ]
    },
    {
      "cell_type": "code",
      "metadata": {
        "id": "5OC2g-qku716",
        "colab_type": "code",
        "outputId": "6b379c06-c206-4735-9e79-4e0b649bf11d",
        "colab": {
          "base_uri": "https://localhost:8080/",
          "height": 36
        }
      },
      "source": [
        "!ls '/colab/My Drive/Colab_folder'"
      ],
      "execution_count": 0,
      "outputs": [
        {
          "output_type": "stream",
          "text": [
            "dogs-cats  FIW\n"
          ],
          "name": "stdout"
        }
      ]
    },
    {
      "cell_type": "code",
      "metadata": {
        "id": "K5S72gOD1T1d",
        "colab_type": "code",
        "outputId": "314c479f-e374-48f6-fc72-938a42ae7ba9",
        "colab": {
          "base_uri": "https://localhost:8080/",
          "height": 67
        }
      },
      "source": [
        "!ls '/colab/My Drive/Colab_folder/FIW'"
      ],
      "execution_count": 0,
      "outputs": [
        {
          "output_type": "stream",
          "text": [
            "Relation_identification_from_face.ipynb  test.zip\t\t  train.zip\n",
            "sample_submission.csv\t\t\t train\n",
            "test\t\t\t\t\t train_relationships.csv\n"
          ],
          "name": "stdout"
        }
      ]
    },
    {
      "cell_type": "code",
      "metadata": {
        "id": "7PApAkAEu_HX",
        "colab_type": "code",
        "colab": {}
      },
      "source": [
        "##Run this part only once\n",
        "#import zipfile\n",
        "##this does not work for nested folders .i.e. if there is folder in folder in \n",
        "##folder in the zip file\n",
        "#zip_ref = zipfile.ZipFile(\"/colab/My Drive/Colab_folder/FIW/train.zip\", 'r')\n",
        "#zip_ref.extractall(\"/colab/My Drive/Colab_folder/FIW/train/\")\n",
        "#zip_ref.close()\n",
        "\n",
        "#zip_ref = zipfile.ZipFile(\"/colab/My Drive/Colab_folder/FIW/test.zip\", 'r')\n",
        "#zip_ref.extractall(\"/colab/My Drive/Colab_folder/FIW/test/\")\n",
        "#zip_ref.close()"
      ],
      "execution_count": 0,
      "outputs": []
    },
    {
      "cell_type": "code",
      "metadata": {
        "id": "HycGZ6arxjz5",
        "colab_type": "code",
        "colab": {}
      },
      "source": [
        "##run this part only once\n",
        "##this worked for nested folder\n",
        "#!unzip '/colab/My Drive/Colab_folder/FIW/train.zip' -d '/colab/My Drive/Colab_folder/FIW/train/'"
      ],
      "execution_count": 0,
      "outputs": []
    },
    {
      "cell_type": "code",
      "metadata": {
        "id": "c6q9DwSPHW1w",
        "colab_type": "code",
        "outputId": "9d15b814-551d-4fac-ba69-11b67e40dde9",
        "colab": {
          "base_uri": "https://localhost:8080/",
          "height": 166
        }
      },
      "source": [
        "import pandas as pd\n",
        "train_reln=pd.read_csv('/colab/My Drive/Colab_folder/FIW/train_relationships.csv')\n",
        "print(train_reln.head())\n",
        "print(train_reln.iloc[0,0])\n",
        "print(type(train_reln.iloc[0,0]))"
      ],
      "execution_count": 0,
      "outputs": [
        {
          "output_type": "stream",
          "text": [
            "           p1          p2\n",
            "0  F0002/MID1  F0002/MID3\n",
            "1  F0002/MID2  F0002/MID3\n",
            "2  F0005/MID1  F0005/MID2\n",
            "3  F0005/MID3  F0005/MID2\n",
            "4  F0009/MID1  F0009/MID4\n",
            "F0002/MID1\n",
            "<class 'str'>\n"
          ],
          "name": "stdout"
        }
      ]
    },
    {
      "cell_type": "code",
      "metadata": {
        "id": "A8UPUBGoh-Ol",
        "colab_type": "code",
        "outputId": "b786eaee-61f9-4584-9a24-0b2e31d2c871",
        "colab": {
          "base_uri": "https://localhost:8080/",
          "height": 36
        }
      },
      "source": [
        "len(train_reln)"
      ],
      "execution_count": 0,
      "outputs": [
        {
          "output_type": "execute_result",
          "data": {
            "text/plain": [
              "3598"
            ]
          },
          "metadata": {
            "tags": []
          },
          "execution_count": 5
        }
      ]
    },
    {
      "cell_type": "code",
      "metadata": {
        "id": "0SQc7mRqCfTP",
        "colab_type": "code",
        "colab": {}
      },
      "source": [
        "import os\n",
        "\n",
        "def max_size_folder(train_reln):\n",
        "  size1, size2, prev1, prev2=0,0,0,0\n",
        "  total_matrix_size=0\n",
        "  notExistingFolder={}\n",
        "  for i in train_reln.index:\n",
        "    #checks if the folder checking relationship exists in the train folder\n",
        "    try:\n",
        "      size1=len(os.listdir('/colab/My Drive/Colab_folder/FIW/train/'+train_reln.loc[i,'p1']))\n",
        "      if size1>prev1:\n",
        "        prev1=size1\n",
        "    except FileNotFoundError:\n",
        "      #if folder doesnot exist, it is added in a list that keeps track of all the folders that do not exist\n",
        "      if i not in notExistingFolder.keys():\n",
        "        notExistingFolder[i]=[train_reln.loc[i,'p1'],]\n",
        "      else:\n",
        "        notExistingFolder[i].append(train_reln.loc[i,'p1'])\n",
        "    try:\n",
        "      size2=len(os.listdir('/colab/My Drive/Colab_folder/FIW/train/'+train_reln.loc[i,'p2']))\n",
        "      total_matrix_size+=size1*size2\n",
        "      if size2>prev2:\n",
        "        prev2=size2\n",
        "    except FileNotFoundError:\n",
        "      if i not in notExistingFolder.keys():\n",
        "        notExistingFolder[i]=[train_reln.loc[i,'p2'],]\n",
        "      else:\n",
        "        notExistingFolder[i].append(train_reln.loc[i,'p2'])\n",
        "  print(prev1, prev2)\n",
        "  return notExistingFolder,total_matrix_size"
      ],
      "execution_count": 0,
      "outputs": []
    },
    {
      "cell_type": "code",
      "metadata": {
        "id": "0BeE5iRyEwvo",
        "colab_type": "code",
        "outputId": "01f3a81c-1c60-4b80-e4c1-2ff657ab749a",
        "colab": {
          "base_uri": "https://localhost:8080/",
          "height": 36
        }
      },
      "source": [
        "a=max_size_folder(train_reln)\n",
        "notExistingFolder,total_matrix_size=a[0],a[1]"
      ],
      "execution_count": 0,
      "outputs": [
        {
          "output_type": "stream",
          "text": [
            "95 95\n"
          ],
          "name": "stdout"
        }
      ]
    },
    {
      "cell_type": "code",
      "metadata": {
        "id": "aWIF-sQ5wPp7",
        "colab_type": "code",
        "outputId": "5ea2d1e0-749a-45af-c841-25ce2873e525",
        "colab": {
          "base_uri": "https://localhost:8080/",
          "height": 56
        }
      },
      "source": [
        "notExistingFolder.keys()"
      ],
      "execution_count": 0,
      "outputs": [
        {
          "output_type": "execute_result",
          "data": {
            "text/plain": [
              "dict_keys([128, 131, 132, 133, 145, 146, 147, 160, 161, 162, 199, 201, 204, 205, 206, 207, 223, 224, 225, 233, 237, 239, 240, 420, 421, 422, 423, 427, 428, 429, 430, 431, 432, 434, 442, 444, 471, 472, 473, 474, 475, 525, 532, 704, 709, 722, 732, 734, 743, 750, 751, 752, 753, 754, 755, 756, 757, 758, 759, 794, 795, 816, 817, 827, 829, 831, 839, 844, 845, 846, 847, 848, 881, 882, 883, 886, 887, 889, 890, 891, 892, 896, 897, 918, 919, 922, 933, 941, 943, 946, 947, 951, 962, 970, 1073, 1077, 1078, 1080, 1108, 1115, 1116, 1118, 1122, 1123, 1125, 1262, 1264, 1266, 1268, 1270, 1382, 1384, 1387, 1390, 1392, 1448, 1458, 1490, 1516, 1518, 1519, 1554, 1555, 1556, 1557, 1558, 1566, 1571, 1577, 1581, 1586, 1601, 1605, 1606, 1608, 1609, 1613, 1614, 1688, 1689, 1705, 1706, 1722, 1723, 1724, 1725, 1726, 1728, 1798, 1799, 1876, 1878, 1880, 1937, 1939, 2006, 2007, 2070, 2108, 2161, 2164, 2168, 2265, 2269, 2271, 2272, 2273, 2274, 2276, 2277, 2315, 2317, 2360, 2361, 2384, 2430, 2431, 2483, 2499, 2500, 2515, 2520, 2609, 2610, 2611, 2626, 2627, 2670, 2733, 2739, 2836, 2845, 2847, 2852, 2870, 2873, 2875, 2912, 2915, 2917, 2919, 2920, 2921, 2967, 2973, 2980, 2981, 2982, 2983, 3015, 3017, 3018, 3019, 3020, 3021, 3029, 3033, 3034, 3039, 3100, 3172, 3261, 3262, 3269, 3271, 3287, 3290, 3292, 3295, 3431, 3457])"
            ]
          },
          "metadata": {
            "tags": []
          },
          "execution_count": 8
        }
      ]
    },
    {
      "cell_type": "code",
      "metadata": {
        "id": "3yGKeJLGcm6Z",
        "colab_type": "code",
        "colab": {}
      },
      "source": [
        "'''\n",
        "This part is used to remove the parts of dataframe which points to folder that\n",
        "do not exist.\n",
        "'''\n",
        "for key in notExistingFolder.keys():\n",
        "  train_reln=train_reln.drop(key)"
      ],
      "execution_count": 0,
      "outputs": []
    },
    {
      "cell_type": "code",
      "metadata": {
        "id": "umEoSZPPE4Px",
        "colab_type": "code",
        "outputId": "ac7b4ce2-6e1d-44e9-a72c-9c5ff23f3afd",
        "colab": {
          "base_uri": "https://localhost:8080/",
          "height": 36
        }
      },
      "source": [
        "total_matrix_size"
      ],
      "execution_count": 0,
      "outputs": [
        {
          "output_type": "execute_result",
          "data": {
            "text/plain": [
              "167785"
            ]
          },
          "metadata": {
            "tags": []
          },
          "execution_count": 10
        }
      ]
    },
    {
      "cell_type": "code",
      "metadata": {
        "id": "EWNQj8tMFdpC",
        "colab_type": "code",
        "outputId": "aa458ac8-0284-4d04-87ea-bc83ef2d90a6",
        "colab": {
          "base_uri": "https://localhost:8080/",
          "height": 36
        }
      },
      "source": [
        "len(train_reln)"
      ],
      "execution_count": 0,
      "outputs": [
        {
          "output_type": "execute_result",
          "data": {
            "text/plain": [
              "3367"
            ]
          },
          "metadata": {
            "tags": []
          },
          "execution_count": 11
        }
      ]
    },
    {
      "cell_type": "code",
      "metadata": {
        "id": "ZRADee-HKdSx",
        "colab_type": "code",
        "outputId": "57d101e3-59c3-4c6b-b787-334195471dcd",
        "colab": {
          "base_uri": "https://localhost:8080/",
          "height": 36
        }
      },
      "source": [
        "'''\n",
        "Creating a dataframe with a columns having information about images that are related\n",
        "related_dataframe: dataframe that stores information about image\n",
        "Column: Image-1: stores numpy array of number representing an image\n",
        "Column: Image-2: stores numpy array of number representing an image related to Image-1\n",
        "'''\n",
        "import matplotlib.pyplot as plt\n",
        "import numpy as np\n",
        "import keras"
      ],
      "execution_count": 0,
      "outputs": [
        {
          "output_type": "stream",
          "text": [
            "Using TensorFlow backend.\n"
          ],
          "name": "stderr"
        }
      ]
    },
    {
      "cell_type": "code",
      "metadata": {
        "id": "IIntEcZKO0YQ",
        "colab_type": "code",
        "colab": {}
      },
      "source": [
        "a=plt.imread('/colab/My Drive/Colab_folder/FIW/train/F0009/MID1/P10576_face2.jpg')"
      ],
      "execution_count": 0,
      "outputs": []
    },
    {
      "cell_type": "code",
      "metadata": {
        "id": "QdDlDC9aLO0T",
        "colab_type": "code",
        "outputId": "d81d5bde-06ac-45ab-b54a-76611f6ef1a7",
        "colab": {
          "base_uri": "https://localhost:8080/",
          "height": 288
        }
      },
      "source": [
        "black=np.array(a/255.0)\n",
        "for i in range(len(black)):\n",
        "  for j in range(len(black[i])):\n",
        "    black[i][j]*= np.array([0.299, 0.587, 0.144])\n",
        "plt.imshow(black)"
      ],
      "execution_count": 0,
      "outputs": [
        {
          "output_type": "execute_result",
          "data": {
            "text/plain": [
              "<matplotlib.image.AxesImage at 0x7faf1f58e208>"
            ]
          },
          "metadata": {
            "tags": []
          },
          "execution_count": 14
        },
        {
          "output_type": "display_data",
          "data": {
            "image/png": "[encoded data removed]",
            "text/plain": [
              "<Figure size 432x288 with 1 Axes>"
            ]
          },
          "metadata": {
            "tags": []
          }
        }
      ]
    },
    {
      "cell_type": "code",
      "metadata": {
        "id": "e6q_FJBQkW8x",
        "colab_type": "code",
        "colab": {}
      },
      "source": [
        "'''\n",
        "creating database of related images\n",
        "'''\n",
        "#the dataframe acting as database\n",
        "import pandas as pd\n",
        "import os\n",
        "import matplotlib.pyplot as plt\n",
        "\n",
        "related_dataframe=pd.DataFrame(columns=['Image-1','Image-2','relation'])\n",
        "\n",
        "'''\n",
        "1. get into each folder that contains image of related people.\n",
        "2. create all possible permutation of related images.\n",
        "3. image-1 will be image from column p1.\n",
        "4. image-2 will be image from column p2.\n",
        "5. relation will have value 1 when there is relation between the photos.\n",
        "\n",
        "#train_reln.head()\n",
        "\n",
        "p1\tp2\n",
        "0\tF0002/MID1\tF0002/MID3\n",
        "1\tF0002/MID2\tF0002/MID3\n",
        "2\tF0005/MID1\tF0005/MID2\n",
        "3\tF0005/MID3\tF0005/MID2\n",
        "4\tF0009/MID1\tF0009/MID4\n",
        "'''\n",
        "'''\n",
        "Commented until better method is thought of!\n",
        "for indx in train_reln.index:\n",
        "  #getting location of first folder with related image\n",
        "  locn_p1='/colab/My Drive/Colab_folder/FIW/train/'+train_reln.loc[indx,'p1']\n",
        "  #getting location of second folder with related image\n",
        "  locn_p2='/colab/My Drive/Colab_folder/FIW/train/'+train_reln.loc[indx,'p2']\n",
        "  \n",
        "  #getting list of files in first folder\n",
        "  files_in_p1=os.listdir(locn_p1)\n",
        "  #getting list of files in second folder\n",
        "  files_in_p2=os.listdir(locn_p2)\n",
        "  for image_file_name_p1 in files_in_p1:\n",
        "    #reading image file in location of p1 and converting it to grey scale\n",
        "    img1=plt.imread(locn_p1+image_file_name_p1)/255.0 * np.array([0.299, 0.587, 0.144])\n",
        "    for image_file_name_p2 in files_in_p2:\n",
        "      #reading image file in location of p1\n",
        "      img2=plt.imread(locn_p1+image_file_name_p2)/255.0 * np.array([0.299, 0.587, 0.144])\n",
        "      related_dataframe.loc[indx,'Image-1']=img1\n",
        "      related_dataframe.loc[indx,'Image-2']=img2\n",
        "        '''"
      ],
      "execution_count": 0,
      "outputs": []
    },
    {
      "cell_type": "code",
      "metadata": {
        "id": "V4Y_fHnqtXps",
        "colab_type": "code",
        "colab": {}
      },
      "source": [
        "locn_p1='/colab/My Drive/Colab_folder/FIW/train/'+train_reln.loc[indx,'p1']"
      ],
      "execution_count": 0,
      "outputs": []
    },
    {
      "cell_type": "code",
      "metadata": {
        "id": "jiFgD5WIthZF",
        "colab_type": "code",
        "colab": {}
      },
      "source": [
        "from keras.layers import Conv2D\n",
        "from keras.layers import MaxPooling2D\n",
        "from keras.optimizers import SGD\n",
        "from keras.layers import Flatten\n",
        "from keras.models import Sequential\n",
        "from keras.layers import Dropout\n",
        "from keras.layers import Dense"
      ],
      "execution_count": 0,
      "outputs": []
    },
    {
      "cell_type": "code",
      "metadata": {
        "id": "5BtO3GMf0YOz",
        "colab_type": "code",
        "colab": {}
      },
      "source": [
        "#getting location of first folder with related image\n",
        "locn_p1='/colab/My Drive/Colab_folder/FIW/train/'+train_reln.loc[0,'p1']\n",
        "#getting location of second folder with related image\n",
        "locn_p2='/colab/My Drive/Colab_folder/FIW/train/'+train_reln.loc[0,'p2']\n",
        "\n",
        "img1=plt.imread(locn_p1+'/'+os.listdir(locn_p1)[0])/255.0\n",
        "img2=plt.imread(locn_p2+'/'+os.listdir(locn_p2)[0])/255.0\n",
        "img3=plt.imread(locn_p2+'/'+os.listdir(locn_p2)[1])/255.0\n",
        "img4=plt.imread(locn_p2+'/'+os.listdir(locn_p2)[2])/255.0\n",
        "img5=plt.imread(locn_p2+'/'+os.listdir(locn_p2)[3])/255.0"
      ],
      "execution_count": 0,
      "outputs": []
    },
    {
      "cell_type": "code",
      "metadata": {
        "id": "d50C0h6selIs",
        "colab_type": "code",
        "colab": {}
      },
      "source": [
        "img6=(img1+img2+img3+img4+img5)/(6.0*255)"
      ],
      "execution_count": 0,
      "outputs": []
    },
    {
      "cell_type": "code",
      "metadata": {
        "id": "-QTSTOSRe2Sk",
        "colab_type": "code",
        "colab": {}
      },
      "source": [
        "plt.imshow(img6)"
      ],
      "execution_count": 0,
      "outputs": []
    },
    {
      "cell_type": "code",
      "metadata": {
        "id": "zGkOGKVrnrTI",
        "colab_type": "code",
        "colab": {}
      },
      "source": [
        "def prewhiten(x):\n",
        "    if x.ndim == 4:\n",
        "        axis = (1, 2, 3)\n",
        "        size = x[0].size\n",
        "    elif x.ndim == 3:\n",
        "        axis = (0, 1, 2)\n",
        "        size = x.size\n",
        "    else:\n",
        "        raise ValueError('Dimension should be 3 or 4')\n",
        "\n",
        "    mean = np.mean(x, axis=axis, keepdims=True)\n",
        "    std = np.std(x, axis=axis, keepdims=True)\n",
        "    std_adj = np.maximum(std, 1.0/np.sqrt(size))\n",
        "    y = (x - mean) / std_adj\n",
        "    return y\n",
        "img7=prewhiten(img3)\n",
        "plt.figure('not whitened')\n",
        "plt.imshow(img3)\n",
        "plt.figure('whitened')\n",
        "plt.imshow(img7)"
      ],
      "execution_count": 0,
      "outputs": []
    },
    {
      "cell_type": "code",
      "metadata": {
        "id": "9zdLTg86ppQB",
        "colab_type": "code",
        "outputId": "5fcfb967-9c3b-4c2d-8975-6e6f8bb4f58f",
        "colab": {
          "base_uri": "https://localhost:8080/",
          "height": 50
        }
      },
      "source": [
        "print((np.sum((img2-img3)**2)),(np.sum((img2-img4)**2)),(np.sum((img2-img5)**2)),)\n",
        "print(np.sum((img1-img3)**2),np.sum((img1-img4)**2),np.sum((img1-img5)**2),)"
      ],
      "execution_count": 0,
      "outputs": [
        {
          "output_type": "stream",
          "text": [
            "4894.2387081891575 5836.188773548635 6504.808073817763\n",
            "11943.725013456364 13365.176716647444 15334.536931949253\n"
          ],
          "name": "stdout"
        }
      ]
    },
    {
      "cell_type": "code",
      "metadata": {
        "id": "6oyYncfkptYz",
        "colab_type": "code",
        "colab": {}
      },
      "source": [
        "plt.figure()\n",
        "plt.imshow(img2)\n",
        "plt.figure()\n",
        "plt.imshow(img3)\n",
        "plt.figure()\n",
        "plt.imshow(img4)\n",
        "plt.figure()\n",
        "plt.imshow(img5)\n",
        "plt.figure()\n",
        "plt.imshow(img1)"
      ],
      "execution_count": 0,
      "outputs": []
    },
    {
      "cell_type": "code",
      "metadata": {
        "id": "MvinQQoXpyNY",
        "colab_type": "code",
        "outputId": "f2da906b-cada-4a25-b734-c6630670956f",
        "colab": {
          "base_uri": "https://localhost:8080/",
          "height": 93
        }
      },
      "source": [
        "model=Sequential([Conv2D(4,(3,3),input_shape=(224,224,3),padding='same',activation='relu'),])"
      ],
      "execution_count": 0,
      "outputs": [
        {
          "output_type": "stream",
          "text": [
            "WARNING:tensorflow:From /usr/local/lib/python3.6/dist-packages/tensorflow/python/framework/op_def_library.py:263: colocate_with (from tensorflow.python.framework.ops) is deprecated and will be removed in a future version.\n",
            "Instructions for updating:\n",
            "Colocations handled automatically by placer.\n"
          ],
          "name": "stdout"
        }
      ]
    },
    {
      "cell_type": "code",
      "metadata": {
        "id": "9Gld51fRUdBu",
        "colab_type": "code",
        "outputId": "438c1974-ac0d-4102-91d0-3aa2e388bfe1",
        "colab": {
          "base_uri": "https://localhost:8080/",
          "height": 36
        }
      },
      "source": [
        "img6=sum(sum(sum(img5-img1)))\n",
        "print(img6)"
      ],
      "execution_count": 0,
      "outputs": [
        {
          "output_type": "stream",
          "text": [
            "18962.9725490196\n"
          ],
          "name": "stdout"
        }
      ]
    },
    {
      "cell_type": "code",
      "metadata": {
        "id": "T7AgB4Vd8DXI",
        "colab_type": "code",
        "colab": {}
      },
      "source": [
        "plt.figure()\n",
        "plt.imshow(img2)\n",
        "plt.figure()\n",
        "plt.imshow(img3)"
      ],
      "execution_count": 0,
      "outputs": []
    },
    {
      "cell_type": "code",
      "metadata": {
        "id": "HCMcqVTSaf_F",
        "colab_type": "code",
        "outputId": "b1e9bfe5-0fe9-40f5-86bd-700cc0efad43",
        "colab": {
          "base_uri": "https://localhost:8080/",
          "height": 36
        }
      },
      "source": [
        "from tensorflow.keras.preprocessing.image import ImageDataGenerator\n",
        "\n",
        "train_datagen = ImageDataGenerator(rescale=1/255.,\n",
        "                                    shear_range=0.2,\n",
        "                                    zoom_range=0.2,\n",
        "                                    horizontal_flip=True\n",
        "                                    )\n",
        "\n",
        "train_generator = train_datagen.flow_from_directory(\n",
        "        '/colab/My Drive/Colab_folder/FIW/train/',\n",
        "        target_size=(224, 224),\n",
        "        batch_size=32,\n",
        "        class_mode='categorical')"
      ],
      "execution_count": 0,
      "outputs": [
        {
          "output_type": "stream",
          "text": [
            "Found 12379 images belonging to 470 classes.\n"
          ],
          "name": "stdout"
        }
      ]
    },
    {
      "cell_type": "code",
      "metadata": {
        "id": "tx1DOMf6dmsm",
        "colab_type": "code",
        "colab": {}
      },
      "source": [
        "#getting location of first folder with related image\n",
        "locn_p1='/colab/My Drive/Colab_folder/FIW/train/'+train_reln.loc[0,'p1']\n",
        "#getting location of second folder with related image\n",
        "locn_p2='/colab/My Drive/Colab_folder/FIW/train/'+train_reln.loc[0,'p2']\n",
        "\n",
        "img1=plt.imread(locn_p1+'/'+os.listdir(locn_p1)[0])/255.0\n",
        "img2=plt.imread(locn_p2+'/'+os.listdir(locn_p2)[0])/255.0\n",
        "img3=plt.imread(locn_p2+'/'+os.listdir(locn_p2)[1])/255.0\n",
        "img4=plt.imread(locn_p2+'/'+os.listdir(locn_p2)[2])/255.0\n",
        "img5=plt.imread(locn_p2+'/'+os.listdir(locn_p2)[3])/255.0"
      ],
      "execution_count": 0,
      "outputs": []
    },
    {
      "cell_type": "code",
      "metadata": {
        "id": "GaB_e3oKlZv_",
        "colab_type": "code",
        "colab": {}
      },
      "source": [
        "def dist_between_images(list_of_images):\n",
        "  dist=[]\n",
        "  for i in range(1,len(list_of_images)):\n",
        "    dist.append(np.sqrt(np.sum((list_of_images[0]-list_of_images[i])**2)))\n",
        "  return dist"
      ],
      "execution_count": 0,
      "outputs": []
    },
    {
      "cell_type": "code",
      "metadata": {
        "id": "lO9WO3hDTBVQ",
        "colab_type": "code",
        "colab": {}
      },
      "source": [
        "'''\n",
        "Using information and code from the following link:\n",
        "https://github.com/akarshzingade/image-similarity-deep-ranking\n",
        "'''\n",
        "\n",
        "import numpy as np\n",
        "from keras.layers import *\n",
        "from keras.models import Model\n",
        "from keras.preprocessing.image import load_img, img_to_array\n",
        "from skimage import transform\n",
        "from keras.models import Sequential\n",
        "from keras.layers import Dense, Dropout, Flatten\n",
        "from keras.layers import Conv2D, MaxPooling2D\n",
        "from keras.layers import Embedding\n",
        "\n",
        "def deep_rank_model():\n",
        "  convnet_model = convnet_model_()\n",
        "  first_input = Input(shape=(224,224,3))\n",
        "  first_conv = Conv2D(96, kernel_size=(8, 8),strides=(16,16), padding='same')(first_input)\n",
        "  first_max = MaxPool2D(pool_size=(3,3),strides = (4,4),padding='same')(first_conv)\n",
        "  first_max = Flatten()(first_max)\n",
        "  first_max = Lambda(lambda  x: K.l2_normalize(x,axis=1))(first_max)\n",
        "\n",
        "  second_input = Input(shape=(224,224,3))\n",
        "  second_conv = Conv2D(96, kernel_size=(8, 8),strides=(32,32), padding='same')(second_input)\n",
        "  second_max = MaxPool2D(pool_size=(7,7),strides = (2,2),padding='same')(second_conv)\n",
        "  second_max = Flatten()(second_max)\n",
        "  second_max = Lambda(lambda  x: K.l2_normalize(x,axis=1))(second_max)\n",
        "\n",
        "  merge_one = concatenate([first_max, second_max])\n",
        "\n",
        "  merge_two = concatenate([merge_one, convnet_model.output])\n",
        "  emb = Dense(4096)(merge_two)\n",
        "  l2_norm_final = Lambda(lambda  x: K.l2_normalize(x,axis=1))(emb)\n",
        "\n",
        "  final_model = Model(inputs=[first_input, second_input, convnet_model.input], outputs=l2_norm_final)\n",
        "\n",
        "  return final_model\n",
        "\n",
        "model = deep_rank_model()\n",
        "\n",
        "# for layer in model.layers:\n",
        "#     print (layer.name, layer.output_shape)\n",
        "\n",
        "model.load_weights(args['model'])\n",
        "\n",
        "embedding1 = model.predict([img1, img1, img1])[0]\n",
        "\n",
        "embedding2 = model.predict([img2,img2,img2])[0]\n",
        "\n",
        "distance = sum([(embedding1[idx] - embedding2[idx])**2 for idx in range(len(embedding1))])**(0.5)\n",
        "\n",
        "print (distance)"
      ],
      "execution_count": 0,
      "outputs": []
    },
    {
      "cell_type": "code",
      "metadata": {
        "id": "iXOaxsH5tK6o",
        "colab_type": "code",
        "colab": {}
      },
      "source": [
        ""
      ],
      "execution_count": 0,
      "outputs": []
    },
    {
      "cell_type": "code",
      "metadata": {
        "id": "cQ79hnLCt2Zc",
        "colab_type": "code",
        "colab": {}
      },
      "source": [
        ""
      ],
      "execution_count": 0,
      "outputs": []
    }
  ]
}