{
  "nbformat": 4,
  "nbformat_minor": 0,
  "metadata": {
    "colab": {
      "name": "Relation_identification_from_face.ipynb",
      "version": "0.3.2",
      "provenance": [],
      "collapsed_sections": []
    },
    "kernelspec": {
      "name": "python3",
      "display_name": "Python 3"
    }
  },
  "cells": [
    {
      "cell_type": "code",
      "metadata": {
        "id": "Xo9ApX3ZujEg",
        "colab_type": "code",
        "colab": {}
      },
      "source": [
        "'''\n",
        "This code is a part of solution attempt from me to check if we can know if two\n",
        "people are related based on their images\n",
        "Training and testing data is provided by kaggle.\n",
        "Following is the link to competition: https://www.kaggle.com/c/recognizing-faces-in-the-wild/overview\n",
        "'''\n",
        "from google.colab import drive\n",
        "drive.mount('/colab/')"
      ],
      "execution_count": 0,
      "outputs": []
    },
    {
      "cell_type": "code",
      "metadata": {
        "id": "395VvayBuv9O",
        "colab_type": "code",
        "outputId": "822a7095-6819-4350-d3e6-4009b3c126c0",
        "colab": {
          "base_uri": "https://localhost:8080/",
          "height": 67
        }
      },
      "source": [
        "!ls sample_data"
      ],
      "execution_count": 0,
      "outputs": [
        {
          "output_type": "stream",
          "text": [
            "anscombe.json\t\t      mnist_test.csv\n",
            "california_housing_test.csv   mnist_train_small.csv\n",
            "california_housing_train.csv  README.md\n"
          ],
          "name": "stdout"
        }
      ]
    },
    {
      "cell_type": "code",
      "metadata": {
        "id": "5OC2g-qku716",
        "colab_type": "code",
        "outputId": "2f42d368-18cd-4c7a-c29e-853df11a0358",
        "colab": {
          "base_uri": "https://localhost:8080/",
          "height": 33
        }
      },
      "source": [
        "!ls '/colab/My Drive/Colab_folder'"
      ],
      "execution_count": 0,
      "outputs": [
        {
          "output_type": "stream",
          "text": [
            "dogs-cats  FIW\n"
          ],
          "name": "stdout"
        }
      ]
    },
    {
      "cell_type": "code",
      "metadata": {
        "id": "K5S72gOD1T1d",
        "colab_type": "code",
        "outputId": "4ed638b5-6059-4406-d97b-b399cfe87510",
        "colab": {
          "base_uri": "https://localhost:8080/",
          "height": 67
        }
      },
      "source": [
        "!ls '/colab/My Drive/Colab_folder/FIW'"
      ],
      "execution_count": 0,
      "outputs": [
        {
          "output_type": "stream",
          "text": [
            "distance.pkl\t\t\t\t test\t   train_relationships.csv\n",
            "Relation_identification_from_face.ipynb  test.zip  train.zip\n",
            "sample_submission.csv\t\t\t train\n"
          ],
          "name": "stdout"
        }
      ]
    },
    {
      "cell_type": "code",
      "metadata": {
        "id": "7PApAkAEu_HX",
        "colab_type": "code",
        "colab": {}
      },
      "source": [
        "##Run this part only once\n",
        "#import zipfile\n",
        "##this does not work for nested folders .i.e. if there is folder in folder in \n",
        "##folder in the zip file\n",
        "#zip_ref = zipfile.ZipFile(\"/colab/My Drive/Colab_folder/FIW/train.zip\", 'r')\n",
        "#zip_ref.extractall(\"/colab/My Drive/Colab_folder/FIW/train/\")\n",
        "#zip_ref.close()\n",
        "\n",
        "#zip_ref = zipfile.ZipFile(\"/colab/My Drive/Colab_folder/FIW/test.zip\", 'r')\n",
        "#zip_ref.extractall(\"/colab/My Drive/Colab_folder/FIW/test/\")\n",
        "#zip_ref.close()"
      ],
      "execution_count": 0,
      "outputs": []
    },
    {
      "cell_type": "code",
      "metadata": {
        "id": "HycGZ6arxjz5",
        "colab_type": "code",
        "colab": {}
      },
      "source": [
        "##run this part only once\n",
        "##this worked for nested folder\n",
        "#!unzip '/colab/My Drive/Colab_folder/FIW/train.zip' -d '/colab/My Drive/Colab_folder/FIW/train/'"
      ],
      "execution_count": 0,
      "outputs": []
    },
    {
      "cell_type": "code",
      "metadata": {
        "id": "c6q9DwSPHW1w",
        "colab_type": "code",
        "outputId": "4240b9ca-518d-40bc-8945-c4647ab62f79",
        "colab": {
          "base_uri": "https://localhost:8080/",
          "height": 150
        }
      },
      "source": [
        "import pandas as pd\n",
        "train_reln=pd.read_csv('/colab/My Drive/Colab_folder/FIW/train_relationships.csv')\n",
        "print(train_reln.head())\n",
        "print(train_reln.iloc[0,0])\n",
        "print(type(train_reln.iloc[0,0]))"
      ],
      "execution_count": 0,
      "outputs": [
        {
          "output_type": "stream",
          "text": [
            "           p1          p2\n",
            "0  F0002/MID1  F0002/MID3\n",
            "1  F0002/MID2  F0002/MID3\n",
            "2  F0005/MID1  F0005/MID2\n",
            "3  F0005/MID3  F0005/MID2\n",
            "4  F0009/MID1  F0009/MID4\n",
            "F0002/MID1\n",
            "<class 'str'>\n"
          ],
          "name": "stdout"
        }
      ]
    },
    {
      "cell_type": "code",
      "metadata": {
        "id": "A8UPUBGoh-Ol",
        "colab_type": "code",
        "outputId": "a8f8b7e5-6649-4f62-edf0-eb0786119f09",
        "colab": {
          "base_uri": "https://localhost:8080/",
          "height": 33
        }
      },
      "source": [
        "len(train_reln)"
      ],
      "execution_count": 0,
      "outputs": [
        {
          "output_type": "execute_result",
          "data": {
            "text/plain": [
              "3598"
            ]
          },
          "metadata": {
            "tags": []
          },
          "execution_count": 6
        }
      ]
    },
    {
      "cell_type": "code",
      "metadata": {
        "id": "0SQc7mRqCfTP",
        "colab_type": "code",
        "colab": {}
      },
      "source": [
        "import os\n",
        "\n",
        "def max_size_folder(train_reln):\n",
        "  size1, size2, prev1, prev2=0,0,0,0\n",
        "  total_matrix_size=0\n",
        "  notExistingFolder={}\n",
        "  for i in train_reln.index:\n",
        "    #checks if the folder checking relationship exists in the train folder\n",
        "    try:\n",
        "      size1=len(os.listdir('/colab/My Drive/Colab_folder/FIW/train/'+train_reln.loc[i,'p1']))\n",
        "      if size1>prev1:\n",
        "        prev1=size1\n",
        "    except FileNotFoundError:\n",
        "      #if folder doesnot exist, it is added in a list that keeps track of all the folders that do not exist\n",
        "      if i not in notExistingFolder.keys():\n",
        "        notExistingFolder[i]=[train_reln.loc[i,'p1'],]\n",
        "      else:\n",
        "        notExistingFolder[i].append(train_reln.loc[i,'p1'])\n",
        "    try:\n",
        "      size2=len(os.listdir('/colab/My Drive/Colab_folder/FIW/train/'+train_reln.loc[i,'p2']))\n",
        "      total_matrix_size+=size1*size2\n",
        "      if size2>prev2:\n",
        "        prev2=size2\n",
        "    except FileNotFoundError:\n",
        "      if i not in notExistingFolder.keys():\n",
        "        notExistingFolder[i]=[train_reln.loc[i,'p2'],]\n",
        "      else:\n",
        "        notExistingFolder[i].append(train_reln.loc[i,'p2'])\n",
        "  print(prev1, prev2)\n",
        "  return notExistingFolder,total_matrix_size"
      ],
      "execution_count": 0,
      "outputs": []
    },
    {
      "cell_type": "code",
      "metadata": {
        "id": "0BeE5iRyEwvo",
        "colab_type": "code",
        "outputId": "0967941d-e7a2-43ea-e010-c3df0ba50a63",
        "colab": {
          "base_uri": "https://localhost:8080/",
          "height": 33
        }
      },
      "source": [
        "'''\n",
        "DO NOT RUN THIS PART IF THIS IS YOUR SECOND TIME!\n",
        "Next time Dont run this part, just run the part which reads from saved,\n",
        "modified data frame in the drive.\n",
        "'''\n",
        "a=max_size_folder(train_reln)\n",
        "notExistingFolder,total_matrix_size=a[0],a[1]"
      ],
      "execution_count": 0,
      "outputs": [
        {
          "output_type": "stream",
          "text": [
            "95 95\n"
          ],
          "name": "stdout"
        }
      ]
    },
    {
      "cell_type": "code",
      "metadata": {
        "id": "aWIF-sQ5wPp7",
        "colab_type": "code",
        "outputId": "83dcfdce-5704-402c-cd6d-3fb2a3b864db",
        "colab": {
          "base_uri": "https://localhost:8080/",
          "height": 53
        }
      },
      "source": [
        "notExistingFolder.keys()"
      ],
      "execution_count": 0,
      "outputs": [
        {
          "output_type": "execute_result",
          "data": {
            "text/plain": [
              "dict_keys([128, 131, 132, 133, 145, 146, 147, 160, 161, 162, 199, 201, 204, 205, 206, 207, 223, 224, 225, 233, 237, 239, 240, 420, 421, 422, 423, 427, 428, 429, 430, 431, 432, 434, 442, 444, 471, 472, 473, 474, 475, 525, 532, 704, 709, 722, 732, 734, 743, 750, 751, 752, 753, 754, 755, 756, 757, 758, 759, 794, 795, 816, 817, 827, 829, 831, 839, 844, 845, 846, 847, 848, 881, 882, 883, 886, 887, 889, 890, 891, 892, 896, 897, 918, 919, 922, 933, 941, 943, 946, 947, 951, 962, 970, 1073, 1077, 1078, 1080, 1108, 1115, 1116, 1118, 1122, 1123, 1125, 1262, 1264, 1266, 1268, 1270, 1382, 1384, 1387, 1390, 1392, 1448, 1458, 1490, 1516, 1518, 1519, 1554, 1555, 1556, 1557, 1558, 1566, 1571, 1577, 1581, 1586, 1601, 1605, 1606, 1608, 1609, 1613, 1614, 1688, 1689, 1705, 1706, 1722, 1723, 1724, 1725, 1726, 1728, 1798, 1799, 1876, 1878, 1880, 1937, 1939, 2006, 2007, 2070, 2108, 2161, 2164, 2168, 2265, 2269, 2271, 2272, 2273, 2274, 2276, 2277, 2315, 2317, 2360, 2361, 2384, 2430, 2431, 2483, 2499, 2500, 2515, 2520, 2609, 2610, 2611, 2626, 2627, 2670, 2733, 2739, 2836, 2845, 2847, 2852, 2870, 2873, 2875, 2912, 2915, 2917, 2919, 2920, 2921, 2967, 2973, 2980, 2981, 2982, 2983, 3015, 3017, 3018, 3019, 3020, 3021, 3029, 3033, 3034, 3039, 3100, 3172, 3261, 3262, 3269, 3271, 3287, 3290, 3292, 3295, 3431, 3457])"
            ]
          },
          "metadata": {
            "tags": []
          },
          "execution_count": 9
        }
      ]
    },
    {
      "cell_type": "code",
      "metadata": {
        "id": "3yGKeJLGcm6Z",
        "colab_type": "code",
        "colab": {}
      },
      "source": [
        "'''\n",
        "This part is used to remove the parts of dataframe which points to folder that\n",
        "do not exist.\n",
        "'''\n",
        "for key in notExistingFolder.keys():\n",
        "  train_reln=train_reln.drop(key)"
      ],
      "execution_count": 0,
      "outputs": []
    },
    {
      "cell_type": "code",
      "metadata": {
        "id": "umEoSZPPE4Px",
        "colab_type": "code",
        "outputId": "8cb17d28-7ab5-4d47-fd4b-c3acb3226102",
        "colab": {
          "base_uri": "https://localhost:8080/",
          "height": 33
        }
      },
      "source": [
        "total_matrix_size"
      ],
      "execution_count": 0,
      "outputs": [
        {
          "output_type": "execute_result",
          "data": {
            "text/plain": [
              "167785"
            ]
          },
          "metadata": {
            "tags": []
          },
          "execution_count": 11
        }
      ]
    },
    {
      "cell_type": "code",
      "metadata": {
        "id": "EWNQj8tMFdpC",
        "colab_type": "code",
        "outputId": "c3d2544d-c3d5-41ba-9bfc-72d517b3c997",
        "colab": {
          "base_uri": "https://localhost:8080/",
          "height": 33
        }
      },
      "source": [
        "len(train_reln)"
      ],
      "execution_count": 0,
      "outputs": [
        {
          "output_type": "execute_result",
          "data": {
            "text/plain": [
              "3367"
            ]
          },
          "metadata": {
            "tags": []
          },
          "execution_count": 12
        }
      ]
    },
    {
      "cell_type": "code",
      "metadata": {
        "id": "ZRADee-HKdSx",
        "colab_type": "code",
        "outputId": "68939a8b-033c-4d42-e3ab-4e27645b8065",
        "colab": {
          "base_uri": "https://localhost:8080/",
          "height": 33
        }
      },
      "source": [
        "'''\n",
        "Creating a dataframe with a columns having information about images that are related\n",
        "related_dataframe: dataframe that stores information about image\n",
        "Column: Image-1: stores numpy array of number representing an image\n",
        "Column: Image-2: stores numpy array of number representing an image related to Image-1\n",
        "'''\n",
        "import matplotlib.pyplot as plt\n",
        "import numpy as np\n",
        "import keras\n",
        "\n",
        "#exporting edited train_reln to a csv\n",
        "\n",
        "train_reln.to_csv('/colab/My Drive/Colab_folder/FIW/rectified_relations.csv')"
      ],
      "execution_count": 0,
      "outputs": [
        {
          "output_type": "stream",
          "text": [
            "Using TensorFlow backend.\n"
          ],
          "name": "stderr"
        }
      ]
    },
    {
      "cell_type": "code",
      "metadata": {
        "id": "IIntEcZKO0YQ",
        "colab_type": "code",
        "colab": {}
      },
      "source": [
        "a=plt.imread('/colab/My Drive/Colab_folder/FIW/train/F0009/MID1/P10576_face2.jpg')"
      ],
      "execution_count": 0,
      "outputs": []
    },
    {
      "cell_type": "code",
      "metadata": {
        "id": "QdDlDC9aLO0T",
        "colab_type": "code",
        "colab": {}
      },
      "source": [
        "black=np.array(a/255.0)\n",
        "for i in range(len(black)):\n",
        "  for j in range(len(black[i])):\n",
        "    black[i][j]*= np.array([0.299, 0.587, 0.144])\n",
        "plt.imshow(black)"
      ],
      "execution_count": 0,
      "outputs": []
    },
    {
      "cell_type": "code",
      "metadata": {
        "id": "e6q_FJBQkW8x",
        "colab_type": "code",
        "colab": {}
      },
      "source": [
        "'''\n",
        "creating database of related images\n",
        "'''\n",
        "#the dataframe acting as database\n",
        "import pandas as pd\n",
        "import os\n",
        "import matplotlib.pyplot as plt\n",
        "\n",
        "related_dataframe=pd.DataFrame(columns=['Image-1','Image-2','relation'])\n",
        "\n",
        "'''\n",
        "1. get into each folder that contains image of related people.\n",
        "2. create all possible permutation of related images.\n",
        "3. image-1 will be image from column p1.\n",
        "4. image-2 will be image from column p2.\n",
        "5. relation will have value 1 when there is relation between the photos.\n",
        "\n",
        "#train_reln.head()\n",
        "\n",
        "p1\tp2\n",
        "0\tF0002/MID1\tF0002/MID3\n",
        "1\tF0002/MID2\tF0002/MID3\n",
        "2\tF0005/MID1\tF0005/MID2\n",
        "3\tF0005/MID3\tF0005/MID2\n",
        "4\tF0009/MID1\tF0009/MID4\n",
        "'''\n",
        "'''\n",
        "Commented until better method is thought of!\n",
        "for indx in train_reln.index:\n",
        "  #getting location of first folder with related image\n",
        "  locn_p1='/colab/My Drive/Colab_folder/FIW/train/'+train_reln.loc[indx,'p1']\n",
        "  #getting location of second folder with related image\n",
        "  locn_p2='/colab/My Drive/Colab_folder/FIW/train/'+train_reln.loc[indx,'p2']\n",
        "\n",
        "  #getting list of files in first folder\n",
        "  files_in_p1=os.listdir(locn_p1)\n",
        "  #getting list of files in second folder\n",
        "  files_in_p2=os.listdir(locn_p2)\n",
        "  for image_file_name_p1 in files_in_p1:\n",
        "    #reading image file in location of p1 and converting it to grey scale\n",
        "    img1=plt.imread(locn_p1+image_file_name_p1)/255.0 * np.array([0.299, 0.587, 0.144])\n",
        "    for image_file_name_p2 in files_in_p2:\n",
        "      #reading image file in location of p1\n",
        "      img2=plt.imread(locn_p1+image_file_name_p2)/255.0 * np.array([0.299, 0.587, 0.144])\n",
        "      related_dataframe.loc[indx,'Image-1']=img1\n",
        "      related_dataframe.loc[indx,'Image-2']=img2\n",
        "'''"
      ],
      "execution_count": 0,
      "outputs": []
    },
    {
      "cell_type": "code",
      "metadata": {
        "id": "sLEXbvmP3ujz",
        "colab_type": "code",
        "colab": {}
      },
      "source": [
        "import pandas as pd\n",
        "import os\n",
        "import matplotlib.pyplot as plt\n",
        "import numpy as np\n",
        "\n",
        "\n",
        "def dist_between_images(img1, img2):\n",
        "  '''\n",
        "  this function takes in two images as input and returns euclidean distance \n",
        "  between them\n",
        "  img1: one of related images\n",
        "  img2: next related image\n",
        "  return: euclidean distance between two image\n",
        "  '''\n",
        "  return (np.sum((img1-img2)**2))**0.5\n",
        "\n",
        "\n",
        "\n",
        "def all_distances(df):\n",
        "  '''\n",
        "  since there are images in folder and each image is compared with the related\n",
        "  ones in another folder, \n",
        "  \n",
        "  a cartesian product: ImagesInFolder_1 x ImagesInFolder_2\n",
        "  \n",
        "  this function takes in the dataframe containing location of related images\n",
        "  df: dataframe with location of related images\n",
        "  return: dataframe df, with new column that has a list of distance between \n",
        "  all the images\n",
        "  '''\n",
        "  reln=df.copy()\n",
        "  all_dist={}\n",
        "  for indx in df.index:\n",
        "    #getting location of first folder with related image\n",
        "    locn_p1='/colab/My Drive/Colab_folder/FIW/train/'+df.loc[indx,'p1']\n",
        "    #getting location of second folder with related image\n",
        "    locn_p2='/colab/My Drive/Colab_folder/FIW/train/'+df.loc[indx,'p2']\n",
        "\n",
        "    #getting list of files in first folder\n",
        "    files_in_p1=os.listdir(locn_p1)\n",
        "    \n",
        "    #getting list of files in second folder\n",
        "    files_in_p2=os.listdir(locn_p2)\n",
        "    second_level_distance=[]\n",
        "    \n",
        "    #this part creates a dataframe with cartesian product of images\n",
        "    for image_file_name_p1 in files_in_p1:\n",
        "      first_level_distance=[]\n",
        "      \n",
        "      #reading image file in location of p1 and converting it to grey scale\n",
        "      img1=plt.imread(locn_p1+'/'+image_file_name_p1)/255.0 * np.array([0.299, 0.587, 0.144])\n",
        "      \n",
        "      for image_file_name_p2 in files_in_p2:\n",
        "        #reading image file in location of p1\n",
        "        img2=plt.imread(locn_p2+'/'+image_file_name_p2)/255.0 * np.array([0.299, 0.587, 0.144])\n",
        "        \n",
        "        first_level_distance.append(dist_between_images(img1,img2))\n",
        "      second_level_distance.append(first_level_distance)\n",
        "    all_dist[indx]=second_level_distance\n",
        "  return all_dist"
      ],
      "execution_count": 0,
      "outputs": []
    },
    {
      "cell_type": "code",
      "metadata": {
        "id": "-QTSTOSRe2Sk",
        "colab_type": "code",
        "colab": {}
      },
      "source": [
        "'''\n",
        "DO NOT RUN THIS IF THIS IS YOUR SECOND TIME.\n",
        "RESULTS ARE SAVED IN THE \n",
        "this part was faster on PC than on colab\n",
        "'''\n",
        "\n",
        "train_dist=all_distances(train_reln)"
      ],
      "execution_count": 0,
      "outputs": []
    },
    {
      "cell_type": "code",
      "metadata": {
        "id": "zGkOGKVrnrTI",
        "colab_type": "code",
        "colab": {}
      },
      "source": [
        "def prewhiten(x):\n",
        "    if x.ndim == 4:\n",
        "        axis = (1, 2, 3)\n",
        "        size = x[0].size\n",
        "    elif x.ndim == 3:\n",
        "        axis = (0, 1, 2)\n",
        "        size = x.size\n",
        "    else:\n",
        "        raise ValueError('Dimension should be 3 or 4')\n",
        "\n",
        "    mean = np.mean(x, axis=axis, keepdims=True)\n",
        "    std = np.std(x, axis=axis, keepdims=True)\n",
        "    std_adj = np.maximum(std, 1.0/np.sqrt(size))\n",
        "    y = (x - mean) / std_adj\n",
        "    return y\n",
        "img7=prewhiten(img3)\n",
        "plt.figure('not whitened')\n",
        "plt.imshow(img3)\n",
        "plt.figure('whitened')\n",
        "plt.imshow(img7)"
      ],
      "execution_count": 0,
      "outputs": []
    },
    {
      "cell_type": "code",
      "metadata": {
        "id": "6oyYncfkptYz",
        "colab_type": "code",
        "colab": {}
      },
      "source": [
        "'''\n",
        "DO NOT RUN THIS PART IF IT IS NOT YOUR FIRST TIME\n",
        "\n",
        "it took a lot of time to get the distance between image\n",
        "Reason seems to be that accessing google drive and reading each file then doing\n",
        "computation takes a lot of time. So I saved the result as a pkl file. Won't have\n",
        "to run this when I start next.\n",
        "'''\n",
        "import pickle\n",
        "#f = open(\"/colab/My Drive/Colab_folder/FIW/distance.pkl\",\"wb\")\n",
        "#pickle.dump(train_dist,f)\n",
        "#f.close()"
      ],
      "execution_count": 0,
      "outputs": []
    },
    {
      "cell_type": "code",
      "metadata": {
        "id": "MvinQQoXpyNY",
        "colab_type": "code",
        "outputId": "e3c88dda-212c-484c-f3a4-da7db85a1c82",
        "colab": {
          "base_uri": "https://localhost:8080/",
          "height": 100
        }
      },
      "source": [
        "ls '/colab/My Drive/Colab_folder/FIW/'"
      ],
      "execution_count": 0,
      "outputs": [
        {
          "output_type": "stream",
          "text": [
            "distance.pkl                             test.zip\n",
            "rectified_relations.csv                  \u001b[0m\u001b[01;34mtrain\u001b[0m/\n",
            "Relation_identification_from_face.ipynb  train_relationships.csv\n",
            "sample_submission.csv                    train.zip\n",
            "\u001b[01;34mtest\u001b[0m/\n"
          ],
          "name": "stdout"
        }
      ]
    },
    {
      "cell_type": "code",
      "metadata": {
        "id": "9Gld51fRUdBu",
        "colab_type": "code",
        "colab": {}
      },
      "source": [
        "'''\n",
        "get information from pickle file\n",
        "'''\n",
        "import pickle\n",
        "f = open(\"/colab/My Drive/Colab_folder/FIW/distance.pkl\",\"rb\")\n",
        "data=pickle.load(f)\n",
        "f.close()"
      ],
      "execution_count": 0,
      "outputs": []
    },
    {
      "cell_type": "code",
      "metadata": {
        "id": "T7AgB4Vd8DXI",
        "colab_type": "code",
        "outputId": "dbc95d26-4565-48f4-8606-36d00f989fa8",
        "colab": {
          "base_uri": "https://localhost:8080/",
          "height": 33
        }
      },
      "source": [
        "len(data)#, len(train_dist)"
      ],
      "execution_count": 0,
      "outputs": [
        {
          "output_type": "execute_result",
          "data": {
            "text/plain": [
              "3367"
            ]
          },
          "metadata": {
            "tags": []
          },
          "execution_count": 26
        }
      ]
    },
    {
      "cell_type": "code",
      "metadata": {
        "id": "Gpu52hG4FAgY",
        "colab_type": "code",
        "colab": {}
      },
      "source": [
        "#DONOT DELETE IF THIS IS NOT YOUR FIRST TIME\n",
        "#del data"
      ],
      "execution_count": 0,
      "outputs": []
    },
    {
      "cell_type": "code",
      "metadata": {
        "id": "_dgouSn-GrEC",
        "colab_type": "code",
        "outputId": "0c93347f-d425-47c5-a850-9cee6f0e3fd6",
        "colab": {
          "base_uri": "https://localhost:8080/",
          "height": 84
        }
      },
      "source": [
        "#list_of_MeanDistance=[np.mean(train_dist[i]) for i in train_dist.keys()]\n",
        "list_of_MeanDistance=[np.mean(data[i]) for i in data.keys()]"
      ],
      "execution_count": 0,
      "outputs": [
        {
          "output_type": "stream",
          "text": [
            "/usr/local/lib/python3.6/dist-packages/numpy/core/fromnumeric.py:3118: RuntimeWarning: Mean of empty slice.\n",
            "  out=out, **kwargs)\n",
            "/usr/local/lib/python3.6/dist-packages/numpy/core/_methods.py:85: RuntimeWarning: invalid value encountered in double_scalars\n",
            "  ret = ret.dtype.type(ret / rcount)\n"
          ],
          "name": "stderr"
        }
      ]
    },
    {
      "cell_type": "code",
      "metadata": {
        "id": "UEs_g15SHC42",
        "colab_type": "code",
        "outputId": "328bba27-128c-4203-baac-b5aefb2908cd",
        "colab": {
          "base_uri": "https://localhost:8080/",
          "height": 33
        }
      },
      "source": [
        "len(list_of_MeanDistance)"
      ],
      "execution_count": 0,
      "outputs": [
        {
          "output_type": "execute_result",
          "data": {
            "text/plain": [
              "3367"
            ]
          },
          "metadata": {
            "tags": []
          },
          "execution_count": 29
        }
      ]
    },
    {
      "cell_type": "code",
      "metadata": {
        "id": "O5hdkj01HJR2",
        "colab_type": "code",
        "outputId": "fb7b1aae-224f-4f64-8375-34d4f07c14bf",
        "colab": {
          "base_uri": "https://localhost:8080/",
          "height": 286
        }
      },
      "source": [
        "plt.scatter(range(3367),list_of_MeanDistance)"
      ],
      "execution_count": 0,
      "outputs": [
        {
          "output_type": "execute_result",
          "data": {
            "text/plain": [
              "<matplotlib.collections.PathCollection at 0x7f1013c983c8>"
            ]
          },
          "metadata": {
            "tags": []
          },
          "execution_count": 30
        },
        {
          "output_type": "display_data",
          "data": {
            "image/png": "[encoded data removed]",
            "text/plain": [
              "<Figure size 432x288 with 1 Axes>"
            ]
          },
          "metadata": {
            "tags": []
          }
        }
      ]
    },
    {
      "cell_type": "code",
      "metadata": {
        "id": "GaB_e3oKlZv_",
        "colab_type": "code",
        "colab": {}
      },
      "source": [
        "def dist_between_images(list_of_images):\n",
        "  dist=[]\n",
        "  for i in range(1,len(list_of_images)):\n",
        "    dist.append(np.sqrt(np.sum((list_of_images[0]-list_of_images[i])**2)))\n",
        "  return dist"
      ],
      "execution_count": 0,
      "outputs": []
    },
    {
      "cell_type": "code",
      "metadata": {
        "id": "e7vxAZ1R6uD0",
        "colab_type": "code",
        "colab": {}
      },
      "source": [
        "data[0]"
      ],
      "execution_count": 0,
      "outputs": []
    },
    {
      "cell_type": "code",
      "metadata": {
        "id": "iXOaxsH5tK6o",
        "colab_type": "code",
        "colab": {}
      },
      "source": [
        "'''\n",
        "calculating distance between unrelated images\n",
        "checking if euclidean distance between them comes in same range as related ones\n",
        "train_reln: dataframe that holds the information about related images\n",
        "\n",
        "what we will do is take an entry from p1 column and take an entry, randomly\n",
        "from p2 column that is not related to entry from p1 we took\n",
        "'''\n",
        "\n",
        "#function that returns dataframe of unrelated images location\n",
        "import random\n",
        "def unrelated_images(df : pd.DataFrame, n : int) -> pd.DataFrame:\n",
        "  '''\n",
        "  df: dataframe that has related image information\n",
        "  n: no of unrelated images we desire\n",
        "  '''\n",
        "  unrelated=pd.DataFrame(columns=['p1','p2'])\n",
        "  count=0\n",
        "  for index in df.index:\n",
        "    if count < n:\n",
        "      count+=1\n",
        "    else:\n",
        "      break\n",
        "    unrelated.loc[index,'p1']=df.loc[index,'p1']\n",
        "    while True:\n",
        "      rand_index=random.choice(train_reln.index)\n",
        "      if rand_index != index:\n",
        "        break\n",
        "    unrelated.loc[index,'p2']=df.loc[rand_index,'p1']\n",
        "  return unrelated"
      ],
      "execution_count": 0,
      "outputs": []
    },
    {
      "cell_type": "code",
      "metadata": {
        "id": "cQ79hnLCt2Zc",
        "colab_type": "code",
        "colab": {}
      },
      "source": [
        "unrelated=unrelated_images(train_reln,150)"
      ],
      "execution_count": 0,
      "outputs": []
    },
    {
      "cell_type": "code",
      "metadata": {
        "id": "oFAqXmx699Kx",
        "colab_type": "code",
        "outputId": "55f75170-a73d-4af0-c9c1-e98ef495e12f",
        "colab": {
          "base_uri": "https://localhost:8080/",
          "height": 117
        }
      },
      "source": [
        "unrelated.head(), len(unrelated)"
      ],
      "execution_count": 0,
      "outputs": [
        {
          "output_type": "execute_result",
          "data": {
            "text/plain": [
              "(           p1           p2\n",
              " 0  F0002/MID1   F0584/MID3\n",
              " 1  F0002/MID2   F0023/MID3\n",
              " 2  F0005/MID1   F0895/MID3\n",
              " 3  F0005/MID3   F0357/MID4\n",
              " 4  F0009/MID1  F0601/MID25, 150)"
            ]
          },
          "metadata": {
            "tags": []
          },
          "execution_count": 55
        }
      ]
    },
    {
      "cell_type": "code",
      "metadata": {
        "id": "HMfAFcwU-6x6",
        "colab_type": "code",
        "colab": {}
      },
      "source": [
        "unrelated_distances=all_distances(unrelated)"
      ],
      "execution_count": 0,
      "outputs": []
    },
    {
      "cell_type": "code",
      "metadata": {
        "id": "DH6RHEPH_70R",
        "colab_type": "code",
        "colab": {}
      },
      "source": [
        "list_of_MeanDistance_unrelated=[np.mean(unrelated_distances[i]) for i in unrelated_distances.keys()]"
      ],
      "execution_count": 0,
      "outputs": []
    },
    {
      "cell_type": "code",
      "metadata": {
        "id": "zyHcCsoRBfZ0",
        "colab_type": "code",
        "outputId": "fe01e6e3-9f99-4bd6-b64a-17430204ca16",
        "colab": {
          "base_uri": "https://localhost:8080/",
          "height": 286
        }
      },
      "source": [
        "plt.scatter(range(len(list_of_MeanDistance_unrelated)),list_of_MeanDistance_unrelated)"
      ],
      "execution_count": 0,
      "outputs": [
        {
          "output_type": "execute_result",
          "data": {
            "text/plain": [
              "<matplotlib.collections.PathCollection at 0x7f101475c780>"
            ]
          },
          "metadata": {
            "tags": []
          },
          "execution_count": 58
        },
        {
          "output_type": "display_data",
          "data": {
            "image/png": "[encoded data removed]",
            "text/plain": [
              "<Figure size 432x288 with 1 Axes>"
            ]
          },
          "metadata": {
            "tags": []
          }
        }
      ]
    },
    {
      "cell_type": "code",
      "metadata": {
        "id": "Wo4RtnH9BnNc",
        "colab_type": "code",
        "colab": {}
      },
      "source": [
        ""
      ],
      "execution_count": 0,
      "outputs": []
    }
  ]
}